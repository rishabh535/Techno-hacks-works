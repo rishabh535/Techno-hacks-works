{
 "cells": [
  {
   "cell_type": "code",
   "execution_count": 4,
   "id": "ede8a4ee",
   "metadata": {},
   "outputs": [
    {
     "name": "stdout",
     "output_type": "stream",
     "text": [
      "             count        mean         std   min       25%       50%    75%  \\\n",
      "PassengerId  891.0  446.000000  257.353842  1.00  223.5000  446.0000  668.5   \n",
      "Survived     891.0    0.383838    0.486592  0.00    0.0000    0.0000    1.0   \n",
      "Pclass       891.0    2.308642    0.836071  1.00    2.0000    3.0000    3.0   \n",
      "Age          714.0   29.699118   14.526497  0.42   20.1250   28.0000   38.0   \n",
      "SibSp        891.0    0.523008    1.102743  0.00    0.0000    0.0000    1.0   \n",
      "Parch        891.0    0.381594    0.806057  0.00    0.0000    0.0000    0.0   \n",
      "Fare         891.0   32.204208   49.693429  0.00    7.9104   14.4542   31.0   \n",
      "\n",
      "                  max  \n",
      "PassengerId  891.0000  \n",
      "Survived       1.0000  \n",
      "Pclass         3.0000  \n",
      "Age           80.0000  \n",
      "SibSp          8.0000  \n",
      "Parch          6.0000  \n",
      "Fare         512.3292  \n",
      "             count         mean         std     min       25%        50%  \\\n",
      "PassengerId  418.0  1100.500000  120.810458  892.00  996.2500  1100.5000   \n",
      "Pclass       418.0     2.265550    0.841838    1.00    1.0000     3.0000   \n",
      "Age          332.0    30.272590   14.181209    0.17   21.0000    27.0000   \n",
      "SibSp        418.0     0.447368    0.896760    0.00    0.0000     0.0000   \n",
      "Parch        418.0     0.392344    0.981429    0.00    0.0000     0.0000   \n",
      "Fare         417.0    35.627188   55.907576    0.00    7.8958    14.4542   \n",
      "\n",
      "                 75%        max  \n",
      "PassengerId  1204.75  1309.0000  \n",
      "Pclass          3.00     3.0000  \n",
      "Age            39.00    76.0000  \n",
      "SibSp           1.00     8.0000  \n",
      "Parch           0.00     9.0000  \n",
      "Fare           31.50   512.3292  \n"
     ]
    }
   ],
   "source": [
    "import pandas as pd\n",
    "import numpy as np\n",
    "import seaborn as sns\n",
    "import matplotlib.pyplot as plt\n",
    "\n",
    "test = pd.read_csv(r\"C:\\Users\\srish\\OneDrive\\Desktop\\Internships\\Techno Hacks\\test.csv\")\n",
    "train = pd.read_csv(r\"C:\\Users\\srish\\OneDrive\\Desktop\\Internships\\Techno Hacks\\train.csv\")\n",
    "\n",
    "pd.set_option('display.max_columns',None)\n",
    "\n",
    "# Calculate summary statistics\n",
    "\n",
    "print(train.describe().T)\n",
    "\n",
    "print(test.describe().T)"
   ]
  }
 ],
 "metadata": {
  "kernelspec": {
   "display_name": "Python 3 (ipykernel)",
   "language": "python",
   "name": "python3"
  },
  "language_info": {
   "codemirror_mode": {
    "name": "ipython",
    "version": 3
   },
   "file_extension": ".py",
   "mimetype": "text/x-python",
   "name": "python",
   "nbconvert_exporter": "python",
   "pygments_lexer": "ipython3",
   "version": "3.10.9"
  }
 },
 "nbformat": 4,
 "nbformat_minor": 5
}
